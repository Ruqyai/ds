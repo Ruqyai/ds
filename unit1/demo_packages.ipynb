{
  "nbformat": 4,
  "nbformat_minor": 0,
  "metadata": {
    "colab": {
      "name": "demo-packages.ipynb",
      "provenance": [],
      "authorship_tag": "ABX9TyNi4RKnmCVr/3XLdN4aBepS",
      "include_colab_link": true
    },
    "kernelspec": {
      "name": "python3",
      "display_name": "Python 3"
    }
  },
  "cells": [
    {
      "cell_type": "markdown",
      "metadata": {
        "id": "view-in-github",
        "colab_type": "text"
      },
      "source": [
        "<a href=\"https://colab.research.google.com/github/Ruqyai/ds/blob/master/unit1/demo_packages.ipynb\" target=\"_parent\"><img src=\"https://colab.research.google.com/assets/colab-badge.svg\" alt=\"Open In Colab\"/></a>"
      ]
    },
    {
      "cell_type": "code",
      "metadata": {
        "id": "hLfY2npyFSmH",
        "colab_type": "code",
        "colab": {
          "base_uri": "https://localhost:8080/",
          "height": 71
        },
        "outputId": "4c2dbbe5-1f2f-43be-b55b-9b11df8ca242"
      },
      "source": [
        "import numpy as np\n",
        "import pandas as pd\n",
        "import matplotlib.pyplot as plt\n",
        "import seaborn as sns\n"
      ],
      "execution_count": 1,
      "outputs": [
        {
          "output_type": "stream",
          "text": [
            "/usr/local/lib/python3.6/dist-packages/statsmodels/tools/_testing.py:19: FutureWarning: pandas.util.testing is deprecated. Use the functions in the public API at pandas.testing instead.\n",
            "  import pandas.util.testing as tm\n"
          ],
          "name": "stderr"
        }
      ]
    },
    {
      "cell_type": "code",
      "metadata": {
        "id": "C5AizG9nyNO5",
        "colab_type": "code",
        "colab": {
          "base_uri": "https://localhost:8080/",
          "height": 204
        },
        "outputId": "5e19b8a1-4052-4be3-f116-0a48ef30c3b1"
      },
      "source": [
        "# to pull the data \n",
        "!wget https://raw.githubusercontent.com/Ruqyai/ds/master/unit1/hotaling_cocktails%20-%20Cocktails.csv"
      ],
      "execution_count": 2,
      "outputs": [
        {
          "output_type": "stream",
          "text": [
            "--2020-06-16 20:50:36--  https://raw.githubusercontent.com/Ruqyai/ds/master/unit1/hotaling_cocktails%20-%20Cocktails.csv\n",
            "Resolving raw.githubusercontent.com (raw.githubusercontent.com)... 151.101.0.133, 151.101.64.133, 151.101.128.133, ...\n",
            "Connecting to raw.githubusercontent.com (raw.githubusercontent.com)|151.101.0.133|:443... connected.\n",
            "HTTP request sent, awaiting response... 200 OK\n",
            "Length: 258936 (253K) [text/plain]\n",
            "Saving to: ‘hotaling_cocktails - Cocktails.csv’\n",
            "\n",
            "\r          hotaling_   0%[                    ]       0  --.-KB/s               \rhotaling_cocktails  100%[===================>] 252.87K  --.-KB/s    in 0.05s   \n",
            "\n",
            "2020-06-16 20:50:37 (4.55 MB/s) - ‘hotaling_cocktails - Cocktails.csv’ saved [258936/258936]\n",
            "\n"
          ],
          "name": "stdout"
        }
      ]
    },
    {
      "cell_type": "markdown",
      "metadata": {
        "id": "hXz8QjC01bxR",
        "colab_type": "text"
      },
      "source": [
        "#Numpy"
      ]
    },
    {
      "cell_type": "code",
      "metadata": {
        "id": "FMnYqQZBEYeI",
        "colab_type": "code",
        "colab": {
          "base_uri": "https://localhost:8080/",
          "height": 85
        },
        "outputId": "60995cfb-9780-4647-bd5a-a86dc70d7033"
      },
      "source": [
        "\n",
        "# In NumPy dimensions are called axes.\n",
        "# The list arr has 2 axes. The first axis has a length of 2, the second axis has a length of 3.\n",
        "list1 = [[1., 0., 0.], [0., 1., 2.]]\n",
        "\n",
        "# Convert list1 to numpy array.\n",
        "arr = np.asarray(list1)\n",
        "\n",
        "# Create numpy array\n",
        "arr2 = np.array([1, 2, 3, 4])\n",
        "\n",
        "# Print the number of axes (dimensions) of the array.\n",
        "print(\"Number of axes:\", arr.ndim)\n",
        "\n",
        "# Print #rows and #columns. For a matrix with n rows and m columns, shape will be (n, m).\n",
        "print(\"Shape:\", arr.shape)\n",
        "\n",
        "# Print the total number of elements of the array. This is equal to the product of the elements of shape.\n",
        "print(\"Total number of elements:\", arr.size)\n",
        "\n",
        "# Print an object describing the type of the elements in the array.\n",
        "print(\"The type of the elements in the array:\", arr.dtype)\n"
      ],
      "execution_count": 3,
      "outputs": [
        {
          "output_type": "stream",
          "text": [
            "Number of axes: 2\n",
            "Shape: (2, 3)\n",
            "Total number of elements: 6\n",
            "The type of the elements in the array: float64\n"
          ],
          "name": "stdout"
        }
      ]
    },
    {
      "cell_type": "code",
      "metadata": {
        "id": "xtXZY9nI4U1A",
        "colab_type": "code",
        "colab": {
          "base_uri": "https://localhost:8080/",
          "height": 51
        },
        "outputId": "b8e889f8-bd60-40c5-86db-1cf753521648"
      },
      "source": [
        "# Square root\n",
        "s = 25\n",
        "print(\"Square root of 25 is:\", np.sqrt(s))\n",
        "\n",
        "# Power\n",
        "p = 6\n",
        "print(\"6 to the power 2 is:\", np.power(p, 2))\n"
      ],
      "execution_count": 4,
      "outputs": [
        {
          "output_type": "stream",
          "text": [
            "Square root of 25 is: 5.0\n",
            "6 to the power 2 is: 36\n"
          ],
          "name": "stdout"
        }
      ]
    },
    {
      "cell_type": "markdown",
      "metadata": {
        "id": "4ax2ZIvp0_Wi",
        "colab_type": "text"
      },
      "source": [
        "#Pandas"
      ]
    },
    {
      "cell_type": "code",
      "metadata": {
        "id": "cdlUnWULEiXk",
        "colab_type": "code",
        "colab": {
          "base_uri": "https://localhost:8080/",
          "height": 340
        },
        "outputId": "34234a6a-eab3-4627-98bc-a69c8b406b1c"
      },
      "source": [
        "# Convert from list to pandas DataFrame\n",
        "numbers = [3, 4, 5, 6, 7]\n",
        "newDF = pd.DataFrame(numbers)\n",
        "print(\"New DataFrame:\")\n",
        "print(newDF)\n",
        "\n",
        "# Create pandas DataFrame.\n",
        "df = pd.DataFrame([[1, 2, 3], [4, 5, 6], [7, 8, 9], [10, 11, 12], [13, 14, 15], [16, 17, 18]])\n",
        "\n",
        "# To view a small sample of a DataFrame object, use the head() and tail().\n",
        "# Default number of elements to display is 5, but you may pass a custom number.\n",
        "print(\"Head of df:\")\n",
        "print(df.head())\n",
        "\n",
        "print(\"\\nHead of df with custom number:\")\n",
        "print(df.head(2))"
      ],
      "execution_count": 5,
      "outputs": [
        {
          "output_type": "stream",
          "text": [
            "New DataFrame:\n",
            "   0\n",
            "0  3\n",
            "1  4\n",
            "2  5\n",
            "3  6\n",
            "4  7\n",
            "Head of df:\n",
            "    0   1   2\n",
            "0   1   2   3\n",
            "1   4   5   6\n",
            "2   7   8   9\n",
            "3  10  11  12\n",
            "4  13  14  15\n",
            "\n",
            "Head of df with custom number:\n",
            "   0  1  2\n",
            "0  1  2  3\n",
            "1  4  5  6\n"
          ],
          "name": "stdout"
        }
      ]
    },
    {
      "cell_type": "code",
      "metadata": {
        "id": "0-Nc2kJT4Ckp",
        "colab_type": "code",
        "colab": {
          "base_uri": "https://localhost:8080/",
          "height": 238
        },
        "outputId": "d9c82f2e-43b2-42fa-ab32-39f4a8cd94a4"
      },
      "source": [
        "print(\"\\nTail of df:\")\n",
        "print(df.tail())\n",
        "\n",
        "print(\"\\nTail of df with custom number:\")\n",
        "print(df.tail(2))"
      ],
      "execution_count": 6,
      "outputs": [
        {
          "output_type": "stream",
          "text": [
            "\n",
            "Tail of df:\n",
            "    0   1   2\n",
            "1   4   5   6\n",
            "2   7   8   9\n",
            "3  10  11  12\n",
            "4  13  14  15\n",
            "5  16  17  18\n",
            "\n",
            "Tail of df with custom number:\n",
            "    0   1   2\n",
            "4  13  14  15\n",
            "5  16  17  18\n"
          ],
          "name": "stdout"
        }
      ]
    },
    {
      "cell_type": "code",
      "metadata": {
        "id": "G-AsECUR1Rtv",
        "colab_type": "code",
        "colab": {
          "base_uri": "https://localhost:8080/",
          "height": 34
        },
        "outputId": "d61f56f0-5f61-4976-ca55-07a0a2853605"
      },
      "source": [
        "# Print shape of df\n",
        "print(\"Shape:\", df.shape)"
      ],
      "execution_count": 7,
      "outputs": [
        {
          "output_type": "stream",
          "text": [
            "Shape: (6, 3)\n"
          ],
          "name": "stdout"
        }
      ]
    },
    {
      "cell_type": "code",
      "metadata": {
        "id": "cSXJZpro3WyV",
        "colab_type": "code",
        "colab": {
          "base_uri": "https://localhost:8080/",
          "height": 85
        },
        "outputId": "890efc66-c829-4f81-f1f1-ec5f2b161792"
      },
      "source": [
        "# Print from index 0 to 2 (2 is excluded) => 0 to 1\n",
        "print(df[0:2], end='\\n\\n')\n"
      ],
      "execution_count": 8,
      "outputs": [
        {
          "output_type": "stream",
          "text": [
            "   0  1  2\n",
            "0  1  2  3\n",
            "1  4  5  6\n",
            "\n"
          ],
          "name": "stdout"
        }
      ]
    },
    {
      "cell_type": "code",
      "metadata": {
        "id": "W9qbjiWJ3Znb",
        "colab_type": "code",
        "colab": {
          "base_uri": "https://localhost:8080/",
          "height": 68
        },
        "outputId": "26b202f7-e7ff-4e4e-9ea0-c27fc48821c1"
      },
      "source": [
        "# OR (if we didn't specify the first index it means 0)\n",
        "print(df[:2])\n"
      ],
      "execution_count": 9,
      "outputs": [
        {
          "output_type": "stream",
          "text": [
            "   0  1  2\n",
            "0  1  2  3\n",
            "1  4  5  6\n"
          ],
          "name": "stdout"
        }
      ]
    },
    {
      "cell_type": "code",
      "metadata": {
        "id": "0rMYbvnL3b2U",
        "colab_type": "code",
        "colab": {
          "base_uri": "https://localhost:8080/",
          "height": 102
        },
        "outputId": "2bcaa2f6-d933-4e98-8828-2553d3ceebdb"
      },
      "source": [
        "# Print all rows except last 2\n",
        "print(df[:-2])"
      ],
      "execution_count": 10,
      "outputs": [
        {
          "output_type": "stream",
          "text": [
            "    0   1   2\n",
            "0   1   2   3\n",
            "1   4   5   6\n",
            "2   7   8   9\n",
            "3  10  11  12\n"
          ],
          "name": "stdout"
        }
      ]
    },
    {
      "cell_type": "code",
      "metadata": {
        "id": "1nquC-Mb2u6a",
        "colab_type": "code",
        "colab": {
          "base_uri": "https://localhost:8080/",
          "height": 204
        },
        "outputId": "2cee5584-0981-4f26-ffe1-7ec189326d84"
      },
      "source": [
        "# To find what all columns it contains, of what types and if they contain any value in it or not. Use info()\n",
        "print(df.info())"
      ],
      "execution_count": 11,
      "outputs": [
        {
          "output_type": "stream",
          "text": [
            "<class 'pandas.core.frame.DataFrame'>\n",
            "RangeIndex: 6 entries, 0 to 5\n",
            "Data columns (total 3 columns):\n",
            " #   Column  Non-Null Count  Dtype\n",
            "---  ------  --------------  -----\n",
            " 0   0       6 non-null      int64\n",
            " 1   1       6 non-null      int64\n",
            " 2   2       6 non-null      int64\n",
            "dtypes: int64(3)\n",
            "memory usage: 272.0 bytes\n",
            "None\n"
          ],
          "name": "stdout"
        }
      ]
    },
    {
      "cell_type": "code",
      "metadata": {
        "id": "riF7ZV0j46P6",
        "colab_type": "code",
        "colab": {
          "base_uri": "https://localhost:8080/",
          "height": 170
        },
        "outputId": "42dd0416-cc52-4de8-8b0d-fef6ff7f118b"
      },
      "source": [
        "# To find the count, mean, standard deviation, minimum and maximum values and the quantities of the data. Use describe()\n",
        "print(df.describe())\n"
      ],
      "execution_count": 12,
      "outputs": [
        {
          "output_type": "stream",
          "text": [
            "               0          1          2\n",
            "count   6.000000   6.000000   6.000000\n",
            "mean    8.500000   9.500000  10.500000\n",
            "std     5.612486   5.612486   5.612486\n",
            "min     1.000000   2.000000   3.000000\n",
            "25%     4.750000   5.750000   6.750000\n",
            "50%     8.500000   9.500000  10.500000\n",
            "75%    12.250000  13.250000  14.250000\n",
            "max    16.000000  17.000000  18.000000\n"
          ],
          "name": "stdout"
        }
      ]
    },
    {
      "cell_type": "code",
      "metadata": {
        "id": "yD5mUu0c4kMZ",
        "colab_type": "code",
        "colab": {
          "base_uri": "https://localhost:8080/",
          "height": 136
        },
        "outputId": "eb9e7bbb-9067-4029-e111-4d4cbbdc2d30"
      },
      "source": [
        "# To remove a column\n",
        "print(df.drop(columns=[1], axis=1))"
      ],
      "execution_count": 13,
      "outputs": [
        {
          "output_type": "stream",
          "text": [
            "    0   2\n",
            "0   1   3\n",
            "1   4   6\n",
            "2   7   9\n",
            "3  10  12\n",
            "4  13  15\n",
            "5  16  18\n"
          ],
          "name": "stdout"
        }
      ]
    },
    {
      "cell_type": "code",
      "metadata": {
        "id": "Hrq7bf6V4_ZN",
        "colab_type": "code",
        "colab": {
          "base_uri": "https://localhost:8080/",
          "height": 119
        },
        "outputId": "e621af00-cf2c-467a-c777-0b008d7c3103"
      },
      "source": [
        "# To remove a row\n",
        "print(df.drop(index=0, axis=0))"
      ],
      "execution_count": 14,
      "outputs": [
        {
          "output_type": "stream",
          "text": [
            "    0   1   2\n",
            "1   4   5   6\n",
            "2   7   8   9\n",
            "3  10  11  12\n",
            "4  13  14  15\n",
            "5  16  17  18\n"
          ],
          "name": "stdout"
        }
      ]
    },
    {
      "cell_type": "code",
      "metadata": {
        "id": "69Js7toQ3Aiv",
        "colab_type": "code",
        "colab": {
          "base_uri": "https://localhost:8080/",
          "height": 85
        },
        "outputId": "2e874c69-6651-4356-beb4-185a97b4f603"
      },
      "source": [
        "\n",
        "# Create new DataFrame with duplicate rows\n",
        "df2 = pd.DataFrame([[1, 2, 3], [1, 2, 3], [4, 5, 6], [4, 5, 6], [7, 8, 9], [7, 8, 9]])\n",
        "\n",
        "# To remove duplicate rows use drop_duplicates()\n",
        "df2 = df2.drop_duplicates()\n",
        "print(df2)\n",
        "\n",
        "# Read csv file (dataset)\n",
        "df3 = pd.read_csv('hotaling_cocktails - Cocktails.csv')"
      ],
      "execution_count": 15,
      "outputs": [
        {
          "output_type": "stream",
          "text": [
            "   0  1  2\n",
            "0  1  2  3\n",
            "2  4  5  6\n",
            "4  7  8  9\n"
          ],
          "name": "stdout"
        }
      ]
    },
    {
      "cell_type": "markdown",
      "metadata": {
        "id": "ZcsI3V900iMK",
        "colab_type": "text"
      },
      "source": [
        "##Sklearn"
      ]
    },
    {
      "cell_type": "markdown",
      "metadata": {
        "id": "F88dtrry0RYa",
        "colab_type": "text"
      },
      "source": [
        "There are many uses of sklearn:\n",
        "* fit() to train the model\n",
        "* predict() to test the model\n",
        "* to evaluate the model\n",
        "* to visualize the results\n",
        "* to split the dataset into training and testing\n",
        "* to use different classifiers\n",
        "\n",
        "\n",
        "\n",
        "\n"
      ]
    },
    {
      "cell_type": "markdown",
      "metadata": {
        "id": "xeaGb5Hf118E",
        "colab_type": "text"
      },
      "source": [
        "#Seaborn"
      ]
    },
    {
      "cell_type": "markdown",
      "metadata": {
        "id": "VxM6yIuL0qUD",
        "colab_type": "text"
      },
      "source": [
        "We can use seaborn also to create statistical data visualization  \n",
        "\n",
        "\n",
        "Seaborn built on top of the Matplotlib library. Seaborn is fast and easy to learn."
      ]
    },
    {
      "cell_type": "code",
      "metadata": {
        "id": "dl35Hd_bE8P3",
        "colab_type": "code",
        "colab": {
          "base_uri": "https://localhost:8080/",
          "height": 248
        },
        "outputId": "d392025f-5c46-4c2f-c0a6-315358d8e4f2"
      },
      "source": [
        "# Set background color\n",
        "sns.set(style='darkgrid')\n",
        "\n",
        "# Create boxplot for df ([[1, 2, 3], [4, 5, 6], [7, 8, 9], [10, 11, 12], [13, 14, 15], [16, 17, 18]])\n",
        "# orient = 'v' => set the orientation as vertical, the default is horizontal\n",
        "sns.boxplot(df, orient='v')\n",
        "\n",
        "# Display the figure\n",
        "plt.show()"
      ],
      "execution_count": 16,
      "outputs": [
        {
          "output_type": "display_data",
          "data": {
            "image/png": "[encoded data removed]",
            "text/plain": [
              "<Figure size 432x288 with 1 Axes>"
            ]
          },
          "metadata": {
            "tags": []
          }
        }
      ]
    }
  ]
}