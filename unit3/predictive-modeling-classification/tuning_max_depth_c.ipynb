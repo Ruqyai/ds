{
  "nbformat": 4,
  "nbformat_minor": 0,
  "metadata": {
    "colab": {
      "name": "tuning-max-depth-c.ipynb",
      "provenance": [],
      "authorship_tag": "ABX9TyNHCwzik3gSUe2uRs20RJ60",
      "include_colab_link": true
    },
    "kernelspec": {
      "name": "python3",
      "display_name": "Python 3"
    }
  },
  "cells": [
    {
      "cell_type": "markdown",
      "metadata": {
        "id": "view-in-github",
        "colab_type": "text"
      },
      "source": [
        "<a href=\"https://colab.research.google.com/github/Ruqyai/ds/blob/master/unit3/predictive-modeling-classification/tuning_max_depth_c.ipynb\" target=\"_parent\"><img src=\"https://colab.research.google.com/assets/colab-badge.svg\" alt=\"Open In Colab\"/></a>"
      ]
    },
    {
      "cell_type": "code",
      "metadata": {
        "id": "g9KOekxHYO3s",
        "colab_type": "code",
        "colab": {}
      },
      "source": [
        "import pandas as pd\n",
        "import seaborn as sns\n",
        "import matplotlib.pyplot as plt\n",
        "from sklearn.preprocessing import Imputer\n",
        "from sklearn.preprocessing import LabelEncoder, OneHotEncoder\n",
        "from sklearn.model_selection import train_test_split\n",
        "from sklearn.tree import DecisionTreeClassifier\n",
        "from sklearn.metrics import accuracy_score\n",
        "from sklearn.tree import export_graphviz  # Visualization\n",
        "import warnings"
      ],
      "execution_count": 0,
      "outputs": []
    },
    {
      "cell_type": "code",
      "metadata": {
        "id": "0pbORPNaYZC-",
        "colab_type": "code",
        "colab": {}
      },
      "source": [
        "# disable warnings\n",
        "warnings.filterwarnings(\"ignore\")\n",
        "\n",
        "dataset = pd.read_csv('weatherAUS.csv')\n",
        "\n",
        "# We need to remove RISK_MM because we want to predict 'RainTomorrow' and RISK_MM can leak some info to our model\n",
        "dataset = dataset.drop('RISK_MM', axis=1)\n",
        "\n",
        "# check if there is any missing value\n",
        "# sns.set()\n",
        "# sns.heatmap(dataset.isnull(), cbar=False, yticklabels=False, cmap='viridis')\n",
        "# plt.show()\n",
        "\n",
        "# remove missing values in numeric columns\n",
        "imputer = Imputer(missing_values='NaN', strategy='mean', axis=0)\n",
        "df_num_col = [\"MinTemp\", \"MaxTemp\", \"Rainfall\", \"Evaporation\", \"Sunshine\", \"WindGustSpeed\", \"WindSpeed9am\",\n",
        "              \"WindSpeed3pm\", \"Humidity9am\", \"Humidity3pm\", \"Pressure9am\", \"Pressure3pm\", \"Cloud9am\", \"Cloud3pm\",\n",
        "              \"Temp9am\", \"Temp3pm\"]\n",
        "\n",
        "data_num = dataset[df_num_col]\n",
        "imputer = imputer.fit(data_num)\n",
        "dataset[df_num_col] = imputer.transform(data_num)\n",
        "\n",
        "# Use encoder for categorical variables\n",
        "label_encoder = LabelEncoder()\n",
        "df_cat_col = [\"WindGustDir\", \"WindDir9am\", \"WindDir3pm\", \"RainToday\", \"RainTomorrow\", \"Date\", \"Location\"]\n",
        "\n",
        "# Update NaN values by NA\n",
        "data_cat = dataset[df_cat_col].fillna('NA')\n",
        "\n",
        "# Loop through each categorical variable and update values using LabelEncoder\n",
        "# - remove missing values in categorical columns\n",
        "for i in range(len(data_cat.columns)):\n",
        "    data_cat.iloc[:, i] = label_encoder.fit_transform(data_cat.iloc[:, i])\n",
        "\n",
        "dataset[df_cat_col] = data_cat\n",
        "\n",
        "# split dataset in features and target variable\n",
        "features = dataset.iloc[:, 0:22].values\n",
        "target = dataset.iloc[:, 22].values\n"
      ],
      "execution_count": 0,
      "outputs": []
    },
    {
      "cell_type": "code",
      "metadata": {
        "id": "EXp2tFhDYdWP",
        "colab_type": "code",
        "colab": {}
      },
      "source": [
        "# ----------------------------------------------- Predictive Modeling ----------------------------------------------- #\n",
        "\n",
        "# Split dataset into training set and test set 70% training and 30% test\n",
        "X_train, X_test, y_train, y_test = train_test_split(features, target, test_size=0.3, random_state=0)\n",
        "\n",
        "# List of values to try for max_depth:\n",
        "max_depth_range = list(range(1, 20))\n",
        "# List to store the average RMSE for each value of max_depth:\n",
        "accuracy = []\n",
        "for depth in max_depth_range:\n",
        "    clf = DecisionTreeClassifier(max_depth=depth,\n",
        "                                 random_state=0)\n",
        "    clf.fit(X_train, y_train)\n",
        "    score = clf.score(X_test, y_test)\n",
        "    accuracy.append(score)\n",
        "\n",
        "sns.set()\n",
        "sns.lineplot(max_depth_range, accuracy)\n",
        "plt.show()"
      ],
      "execution_count": 0,
      "outputs": []
    }
  ]
}