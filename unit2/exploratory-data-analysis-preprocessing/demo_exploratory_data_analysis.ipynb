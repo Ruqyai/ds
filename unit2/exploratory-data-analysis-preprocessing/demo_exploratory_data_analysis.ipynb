{
  "nbformat": 4,
  "nbformat_minor": 0,
  "metadata": {
    "colab": {
      "name": "demo-exploratory-data-analysis.ipynb",
      "provenance": [],
      "authorship_tag": "ABX9TyMq02iMTPhjJ5PsbD+On7r+",
      "include_colab_link": true
    },
    "kernelspec": {
      "name": "python3",
      "display_name": "Python 3"
    }
  },
  "cells": [
    {
      "cell_type": "markdown",
      "metadata": {
        "id": "view-in-github",
        "colab_type": "text"
      },
      "source": [
        "<a href=\"https://colab.research.google.com/github/Ruqyai/ds/blob/master/unit2/exploratory-data-analysis-preprocessing/demo_exploratory_data_analysis.ipynb\" target=\"_parent\"><img src=\"https://colab.research.google.com/assets/colab-badge.svg\" alt=\"Open In Colab\"/></a>"
      ]
    },
    {
      "cell_type": "code",
      "metadata": {
        "id": "ToTo8I85HNyI",
        "colab_type": "code",
        "colab": {
          "base_uri": "https://localhost:8080/",
          "height": 71
        },
        "outputId": "bfaf0a81-9582-49dc-8abd-d5da77d0f476"
      },
      "source": [
        "import pandas as pd\n",
        "import matplotlib.pyplot as plt\n",
        "import seaborn as sns"
      ],
      "execution_count": 1,
      "outputs": [
        {
          "output_type": "stream",
          "text": [
            "/usr/local/lib/python3.6/dist-packages/statsmodels/tools/_testing.py:19: FutureWarning: pandas.util.testing is deprecated. Use the functions in the public API at pandas.testing instead.\n",
            "  import pandas.util.testing as tm\n"
          ],
          "name": "stderr"
        }
      ]
    },
    {
      "cell_type": "code",
      "metadata": {
        "id": "7A-uDyYNN1mr",
        "colab_type": "code",
        "colab": {
          "base_uri": "https://localhost:8080/",
          "height": 204
        },
        "outputId": "db81fc0b-6031-4b15-b135-26f290b07c74"
      },
      "source": [
        "!wget https://raw.githubusercontent.com/Ruqyai/ds/master/unit2/exploratory-data-analysis-preprocessing/HR_dataset.csv"
      ],
      "execution_count": 2,
      "outputs": [
        {
          "output_type": "stream",
          "text": [
            "--2020-06-16 22:22:08--  https://raw.githubusercontent.com/Ruqyai/ds/master/unit2/exploratory-data-analysis-preprocessing/HR_dataset.csv\n",
            "Resolving raw.githubusercontent.com (raw.githubusercontent.com)... 151.101.0.133, 151.101.64.133, 151.101.128.133, ...\n",
            "Connecting to raw.githubusercontent.com (raw.githubusercontent.com)|151.101.0.133|:443... connected.\n",
            "HTTP request sent, awaiting response... 200 OK\n",
            "Length: 68647 (67K) [text/plain]\n",
            "Saving to: ‘HR_dataset.csv’\n",
            "\n",
            "\rHR_dataset.csv        0%[                    ]       0  --.-KB/s               \rHR_dataset.csv      100%[===================>]  67.04K  --.-KB/s    in 0.009s  \n",
            "\n",
            "2020-06-16 22:22:08 (7.64 MB/s) - ‘HR_dataset.csv’ saved [68647/68647]\n",
            "\n"
          ],
          "name": "stdout"
        }
      ]
    },
    {
      "cell_type": "code",
      "metadata": {
        "id": "A5ymoiOeHY3f",
        "colab_type": "code",
        "colab": {
          "base_uri": "https://localhost:8080/",
          "height": 816
        },
        "outputId": "741a69b4-2bc0-4496-bb9a-887bf929d335"
      },
      "source": [
        "df = pd.read_csv('HR_dataset.csv')\n",
        "\n",
        "\n",
        "# First five rows\n",
        "print(df.head())\n",
        "\n",
        "# DataFrame shape (rows, columns)\n",
        "print(df.shape)\n",
        "\n",
        "# To find what all columns it contains, of what types and if they contain any value in it or not.\n",
        "print(df.info())\n",
        "\n",
        "# To find the count, mean, standard deviation, minimum and maximum values and the quantities of the data.\n",
        "print(df.describe())\n",
        "\n"
      ],
      "execution_count": 3,
      "outputs": [
        {
          "output_type": "stream",
          "text": [
            "          Employee Name  ...         Performance Score\n",
            "0            Brown, Mia  ...               Fully Meets\n",
            "1  LaRotonda, William    ...               Fully Meets\n",
            "2      Steans, Tyrone    ...               Fully Meets\n",
            "3       Howard, Estelle  ...  N/A- too early to review\n",
            "4           Singh, Nan   ...  N/A- too early to review\n",
            "\n",
            "[5 rows x 21 columns]\n",
            "(302, 21)\n",
            "<class 'pandas.core.frame.DataFrame'>\n",
            "RangeIndex: 302 entries, 0 to 301\n",
            "Data columns (total 21 columns):\n",
            " #   Column               Non-Null Count  Dtype  \n",
            "---  ------               --------------  -----  \n",
            " 0   Employee Name        301 non-null    object \n",
            " 1   Employee Number      301 non-null    float64\n",
            " 2   State                301 non-null    object \n",
            " 3   Zip                  301 non-null    float64\n",
            " 4   DOB                  301 non-null    object \n",
            " 5   Age                  301 non-null    float64\n",
            " 6   Sex                  301 non-null    object \n",
            " 7   MaritalDesc          301 non-null    object \n",
            " 8   CitizenDesc          301 non-null    object \n",
            " 9   Hispanic/Latino      301 non-null    object \n",
            " 10  RaceDesc             301 non-null    object \n",
            " 11  Date of Hire         301 non-null    object \n",
            " 12  Date of Termination  103 non-null    object \n",
            " 13  Reason For Term      301 non-null    object \n",
            " 14  Employment Status    301 non-null    object \n",
            " 15  Department           301 non-null    object \n",
            " 16  Position             301 non-null    object \n",
            " 17  Pay Rate             301 non-null    float64\n",
            " 18  Manager Name         301 non-null    object \n",
            " 19  Employee Source      301 non-null    object \n",
            " 20  Performance Score    301 non-null    object \n",
            "dtypes: float64(4), object(17)\n",
            "memory usage: 49.7+ KB\n",
            "None\n",
            "       Employee Number           Zip         Age    Pay Rate\n",
            "count     3.010000e+02    301.000000  301.000000  301.000000\n",
            "mean      1.205421e+09   6705.196013   38.548173   30.715249\n",
            "std       1.826616e+08  17167.527864    8.942884   15.216214\n",
            "min       6.020003e+08   1013.000000   25.000000   14.000000\n",
            "25%       1.102024e+09   1901.000000   31.000000   20.000000\n",
            "50%       1.204033e+09   2132.000000   37.000000   24.000000\n",
            "75%       1.401065e+09   2421.000000   44.000000   43.000000\n",
            "max       1.988300e+09  98052.000000   67.000000   80.000000\n"
          ],
          "name": "stdout"
        }
      ]
    },
    {
      "cell_type": "code",
      "metadata": {
        "id": "ywN3tOvDODBw",
        "colab_type": "code",
        "colab": {
          "base_uri": "https://localhost:8080/",
          "height": 258
        },
        "outputId": "fe3472e2-1501-4274-adc0-9f0cfec55825"
      },
      "source": [
        "# Visualization\n",
        "sns.set()\n",
        "\n",
        "# Check if there is any missing value\n",
        "sns.heatmap(df.isnull(), cmap='viridis')\n",
        "\n",
        "# Check if there is any outlier in \"Pay Rate\" column\n",
        "sns.boxplot(df['Pay Rate'].values, orient='v')\n",
        "\n",
        "# Display the figure\n",
        "plt.show()\n"
      ],
      "execution_count": 4,
      "outputs": [
        {
          "output_type": "display_data",
          "data": {
            "image/png": "[encoded data removed]",
            "text/plain": [
              "<Figure size 432x288 with 2 Axes>"
            ]
          },
          "metadata": {
            "tags": []
          }
        }
      ]
    },
    {
      "cell_type": "code",
      "metadata": {
        "id": "xud7b39rOFSl",
        "colab_type": "code",
        "colab": {
          "base_uri": "https://localhost:8080/",
          "height": 323
        },
        "outputId": "2de2f59a-f992-43ef-9b8e-62b2c67bfc47"
      },
      "source": [
        "# Check if there are any duplicates.\n",
        "# Compare #rows in shape before and shape after.\n",
        "# If there is any difference, then there are duplicates and they have been removed.\n",
        "print(\"Shape before:\", df.shape, '\\n------------')\n",
        "print(df.drop_duplicates())\n",
        "print(\"------------\\nShape after:\", df.shape)"
      ],
      "execution_count": 5,
      "outputs": [
        {
          "output_type": "stream",
          "text": [
            "Shape before: (302, 21) \n",
            "------------\n",
            "            Employee Name  ...         Performance Score\n",
            "0              Brown, Mia  ...               Fully Meets\n",
            "1    LaRotonda, William    ...               Fully Meets\n",
            "2        Steans, Tyrone    ...               Fully Meets\n",
            "3         Howard, Estelle  ...  N/A- too early to review\n",
            "4             Singh, Nan   ...  N/A- too early to review\n",
            "..                    ...  ...                       ...\n",
            "297          Saada, Adell  ...               Fully Meets\n",
            "298         Szabo, Andrew  ...               Exceptional\n",
            "299          True, Edward  ...               Fully Meets\n",
            "300      Sweetwater, Alex  ...               Fully Meets\n",
            "301                   NaN  ...                       NaN\n",
            "\n",
            "[302 rows x 21 columns]\n",
            "------------\n",
            "Shape after: (302, 21)\n"
          ],
          "name": "stdout"
        }
      ]
    }
  ]
}