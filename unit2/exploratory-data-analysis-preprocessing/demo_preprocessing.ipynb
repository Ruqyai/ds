{
  "nbformat": 4,
  "nbformat_minor": 0,
  "metadata": {
    "colab": {
      "name": "demo-preprocessing.ipynb",
      "provenance": [],
      "authorship_tag": "ABX9TyMVU97DIdmakFD9vIfm7+Lm",
      "include_colab_link": true
    },
    "kernelspec": {
      "name": "python3",
      "display_name": "Python 3"
    }
  },
  "cells": [
    {
      "cell_type": "markdown",
      "metadata": {
        "id": "view-in-github",
        "colab_type": "text"
      },
      "source": [
        "<a href=\"https://colab.research.google.com/github/Ruqyai/ds/blob/master/unit2/exploratory-data-analysis-preprocessing/demo_preprocessing.ipynb\" target=\"_parent\"><img src=\"https://colab.research.google.com/assets/colab-badge.svg\" alt=\"Open In Colab\"/></a>"
      ]
    },
    {
      "cell_type": "code",
      "metadata": {
        "id": "QAkEFgrkNzKH",
        "colab_type": "code",
        "colab": {
          "base_uri": "https://localhost:8080/",
          "height": 71
        },
        "outputId": "8e97e2d7-7625-4a22-e591-73d00f1ab487"
      },
      "source": [
        "import pandas as pd\n",
        "import matplotlib.pyplot as plt\n",
        "import seaborn as sns"
      ],
      "execution_count": 1,
      "outputs": [
        {
          "output_type": "stream",
          "text": [
            "/usr/local/lib/python3.6/dist-packages/statsmodels/tools/_testing.py:19: FutureWarning: pandas.util.testing is deprecated. Use the functions in the public API at pandas.testing instead.\n",
            "  import pandas.util.testing as tm\n"
          ],
          "name": "stderr"
        }
      ]
    },
    {
      "cell_type": "code",
      "metadata": {
        "id": "DwpnttZKcgOF",
        "colab_type": "code",
        "colab": {
          "base_uri": "https://localhost:8080/",
          "height": 204
        },
        "outputId": "763ae7f4-3bf3-4f36-ecfa-ddb77b002724"
      },
      "source": [
        "!wget https://raw.githubusercontent.com/Ruqyai/ds/master/unit2/exploratory-data-analysis-preprocessing/HR_dataset.csv"
      ],
      "execution_count": 2,
      "outputs": [
        {
          "output_type": "stream",
          "text": [
            "--2020-06-17 08:43:23--  https://raw.githubusercontent.com/Ruqyai/ds/master/unit2/exploratory-data-analysis-preprocessing/HR_dataset.csv\n",
            "Resolving raw.githubusercontent.com (raw.githubusercontent.com)... 151.101.0.133, 151.101.64.133, 151.101.128.133, ...\n",
            "Connecting to raw.githubusercontent.com (raw.githubusercontent.com)|151.101.0.133|:443... connected.\n",
            "HTTP request sent, awaiting response... 200 OK\n",
            "Length: 68647 (67K) [text/plain]\n",
            "Saving to: ‘HR_dataset.csv’\n",
            "\n",
            "\rHR_dataset.csv        0%[                    ]       0  --.-KB/s               \rHR_dataset.csv      100%[===================>]  67.04K  --.-KB/s    in 0.02s   \n",
            "\n",
            "2020-06-17 08:43:24 (3.77 MB/s) - ‘HR_dataset.csv’ saved [68647/68647]\n",
            "\n"
          ],
          "name": "stdout"
        }
      ]
    },
    {
      "cell_type": "code",
      "metadata": {
        "id": "ZuJqXjKfch4k",
        "colab_type": "code",
        "colab": {}
      },
      "source": [
        "df = pd.read_csv('HR_dataset.csv')"
      ],
      "execution_count": 3,
      "outputs": []
    },
    {
      "cell_type": "code",
      "metadata": {
        "id": "kXW9JzRacy2r",
        "colab_type": "code",
        "colab": {
          "base_uri": "https://localhost:8080/",
          "height": 476
        },
        "outputId": "783b3678-b9e8-4d9a-aa11-16eb9f2330d3"
      },
      "source": [
        "df.info()"
      ],
      "execution_count": 16,
      "outputs": [
        {
          "output_type": "stream",
          "text": [
            "<class 'pandas.core.frame.DataFrame'>\n",
            "RangeIndex: 302 entries, 0 to 301\n",
            "Data columns (total 20 columns):\n",
            " #   Column             Non-Null Count  Dtype  \n",
            "---  ------             --------------  -----  \n",
            " 0   Employee Name      301 non-null    object \n",
            " 1   Employee Number    301 non-null    float64\n",
            " 2   State              301 non-null    object \n",
            " 3   Zip                301 non-null    float64\n",
            " 4   DOB                301 non-null    object \n",
            " 5   Age                301 non-null    float64\n",
            " 6   Sex                301 non-null    object \n",
            " 7   MaritalDesc        301 non-null    object \n",
            " 8   CitizenDesc        301 non-null    object \n",
            " 9   Hispanic/Latino    301 non-null    object \n",
            " 10  RaceDesc           301 non-null    object \n",
            " 11  Date of Hire       301 non-null    object \n",
            " 12  Reason For Term    301 non-null    object \n",
            " 13  Employment Status  301 non-null    object \n",
            " 14  Department         301 non-null    object \n",
            " 15  Position           301 non-null    object \n",
            " 16  Pay Rate           301 non-null    float64\n",
            " 17  Manager Name       301 non-null    object \n",
            " 18  Employee Source    301 non-null    object \n",
            " 19  Performance Score  301 non-null    object \n",
            "dtypes: float64(4), object(16)\n",
            "memory usage: 47.3+ KB\n"
          ],
          "name": "stdout"
        }
      ]
    },
    {
      "cell_type": "code",
      "metadata": {
        "id": "t2xjepTNdMsS",
        "colab_type": "code",
        "colab": {
          "base_uri": "https://localhost:8080/",
          "height": 374
        },
        "outputId": "a97398b5-c82a-4365-e6a1-d6f60ebdfb10"
      },
      "source": [
        "df.isnull().count()"
      ],
      "execution_count": 15,
      "outputs": [
        {
          "output_type": "execute_result",
          "data": {
            "text/plain": [
              "Employee Name        302\n",
              "Employee Number      302\n",
              "State                302\n",
              "Zip                  302\n",
              "DOB                  302\n",
              "Age                  302\n",
              "Sex                  302\n",
              "MaritalDesc          302\n",
              "CitizenDesc          302\n",
              "Hispanic/Latino      302\n",
              "RaceDesc             302\n",
              "Date of Hire         302\n",
              "Reason For Term      302\n",
              "Employment Status    302\n",
              "Department           302\n",
              "Position             302\n",
              "Pay Rate             302\n",
              "Manager Name         302\n",
              "Employee Source      302\n",
              "Performance Score    302\n",
              "dtype: int64"
            ]
          },
          "metadata": {
            "tags": []
          },
          "execution_count": 15
        }
      ]
    },
    {
      "cell_type": "code",
      "metadata": {
        "id": "eoBCiHkUN2eC",
        "colab_type": "code",
        "colab": {
          "base_uri": "https://localhost:8080/",
          "height": 388
        },
        "outputId": "a76562db-ef4f-45b3-be0a-72e0cb189b7e"
      },
      "source": [
        "# Remove missing values.\n",
        "# Since the missing value here found in \"Date of Termination\" column, we can't apply any statistical calculation.\n",
        "# The solutions are either to drop this column or fill it manually.\n",
        "#df = df.drop(columns='Date of Termination', axis=1)\n",
        "\n",
        "sns.set()\n",
        "\n",
        "# Check if there is any missing value\n",
        "sns.heatmap(df.isnull(), cmap='viridis')"
      ],
      "execution_count": 17,
      "outputs": [
        {
          "output_type": "execute_result",
          "data": {
            "text/plain": [
              "<matplotlib.axes._subplots.AxesSubplot at 0x7fdd5df175f8>"
            ]
          },
          "metadata": {
            "tags": []
          },
          "execution_count": 17
        },
        {
          "output_type": "display_data",
          "data": {
            "image/png": "[encoded data removed]",
            "text/plain": [
              "<Figure size 432x288 with 2 Axes>"
            ]
          },
          "metadata": {
            "tags": []
          }
        }
      ]
    },
    {
      "cell_type": "code",
      "metadata": {
        "id": "u_V6_FV2OA5x",
        "colab_type": "code",
        "colab": {
          "base_uri": "https://localhost:8080/",
          "height": 252
        },
        "outputId": "7f099ced-899d-4915-d93f-1be905fb08d9"
      },
      "source": [
        "# Remove outliers\n",
        "df['Pay Rate'] = df['Pay Rate'].clip(14, 77)\n",
        "\n",
        "sns.boxplot(df['Pay Rate'].values, orient='v')\n",
        "\n",
        "#plt.show()\n",
        "\n",
        "# If there were any duplicates, we can do the following: \n",
        "\n",
        "# => remove them then update the DataFrame\n",
        "df = df.drop_duplicates()"
      ],
      "execution_count": 23,
      "outputs": [
        {
          "output_type": "display_data",
          "data": {
            "image/png": "[encoded data removed]",
            "text/plain": [
              "<Figure size 432x288 with 1 Axes>"
            ]
          },
          "metadata": {
            "tags": []
          }
        }
      ]
    }
  ]
}